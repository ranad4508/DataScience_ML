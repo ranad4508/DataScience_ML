{
 "cells": [
  {
   "cell_type": "markdown",
   "id": "2edd3a35",
   "metadata": {},
   "source": [
    "### 4. Create a list of your favorite movies and print it. Then, append a new movie to the list and print the updated list."
   ]
  },
  {
   "cell_type": "code",
   "execution_count": 2,
   "id": "98ca084d",
   "metadata": {},
   "outputs": [
    {
     "data": {
      "text/plain": [
       "['The Shawshank Redemption',\n",
       " 'Inception',\n",
       " 'The Godfather',\n",
       " 'The Dark Knight',\n",
       " 'Forrest Gump']"
      ]
     },
     "execution_count": 2,
     "metadata": {},
     "output_type": "execute_result"
    }
   ],
   "source": [
    "favorite_movies = [\n",
    "    \"The Shawshank Redemption\",\n",
    "    \"Inception\",\n",
    "    \"The Godfather\",\n",
    "    \"The Dark Knight\",\n",
    "    \"Forrest Gump\"\n",
    "]\n",
    "favorite_movies"
   ]
  },
  {
   "cell_type": "code",
   "execution_count": 3,
   "id": "fc6a98d8",
   "metadata": {},
   "outputs": [
    {
     "data": {
      "text/plain": [
       "['The Shawshank Redemption',\n",
       " 'Inception',\n",
       " 'The Godfather',\n",
       " 'The Dark Knight',\n",
       " 'Forrest Gump',\n",
       " 'Avengers']"
      ]
     },
     "execution_count": 3,
     "metadata": {},
     "output_type": "execute_result"
    }
   ],
   "source": [
    "favorite_movies.append(\"Avengers\")\n",
    "favorite_movies"
   ]
  },
  {
   "cell_type": "code",
   "execution_count": 5,
   "id": "47e42fe9",
   "metadata": {},
   "outputs": [
    {
     "name": "stdout",
     "output_type": "stream",
     "text": [
      "The Shawshank Redemption\n",
      "Inception\n",
      "The Godfather\n",
      "The Dark Knight\n",
      "Forrest Gump\n",
      "Avengers\n"
     ]
    }
   ],
   "source": [
    "for movie in favorite_movies:\n",
    "    print(movie)"
   ]
  },
  {
   "cell_type": "markdown",
   "id": "3c9cc788",
   "metadata": {},
   "source": [
    "### 5. Create a list of integers from 1 to 10 and print it. Calculate the sum of all the numbers in the list and print the result."
   ]
  },
  {
   "cell_type": "code",
   "execution_count": 6,
   "id": "c8c65dcb",
   "metadata": {},
   "outputs": [
    {
     "data": {
      "text/plain": [
       "[1, 2, 3, 4, 5, 6, 7, 8, 9, 10]"
      ]
     },
     "execution_count": 6,
     "metadata": {},
     "output_type": "execute_result"
    }
   ],
   "source": [
    "list_integer = [1,2,3,4,5,6,7,8,9,10]\n",
    "list_integer"
   ]
  },
  {
   "cell_type": "code",
   "execution_count": 7,
   "id": "214a8551",
   "metadata": {},
   "outputs": [
    {
     "data": {
      "text/plain": [
       "55"
      ]
     },
     "execution_count": 7,
     "metadata": {},
     "output_type": "execute_result"
    }
   ],
   "source": [
    "sum_integer = sum(list_integer)\n",
    "sum_integer"
   ]
  },
  {
   "cell_type": "markdown",
   "id": "43b0b130",
   "metadata": {},
   "source": [
    "Another way:"
   ]
  },
  {
   "cell_type": "code",
   "execution_count": 8,
   "id": "57d68e82",
   "metadata": {},
   "outputs": [
    {
     "data": {
      "text/plain": [
       "[1, 2, 3, 4, 5, 6, 7, 8, 9, 10]"
      ]
     },
     "execution_count": 8,
     "metadata": {},
     "output_type": "execute_result"
    }
   ],
   "source": [
    "integers = list(range(1,11))\n",
    "integers"
   ]
  },
  {
   "cell_type": "code",
   "execution_count": 10,
   "id": "97d1750a",
   "metadata": {},
   "outputs": [
    {
     "data": {
      "text/plain": [
       "55"
      ]
     },
     "execution_count": 10,
     "metadata": {},
     "output_type": "execute_result"
    }
   ],
   "source": [
    "total_sum = sum(integers)\n",
    "total_sum"
   ]
  },
  {
   "cell_type": "markdown",
   "id": "701eacb9",
   "metadata": {},
   "source": [
    "### 6. Create a list of mixed data types including strings, integers, and floats and print it. Remove the first element from the list and print the modified list."
   ]
  },
  {
   "cell_type": "code",
   "execution_count": 11,
   "id": "9d535391",
   "metadata": {},
   "outputs": [
    {
     "data": {
      "text/plain": [
       "['trekking', 5, 1.234, 'Dinesh', 10, 100.2]"
      ]
     },
     "execution_count": 11,
     "metadata": {},
     "output_type": "execute_result"
    }
   ],
   "source": [
    "mixed_list = [\"trekking\", 5, 1.234, \"Dinesh\", 10, 100.200]\n",
    "mixed_list"
   ]
  },
  {
   "cell_type": "code",
   "execution_count": 12,
   "id": "905e6ab3",
   "metadata": {},
   "outputs": [
    {
     "data": {
      "text/plain": [
       "[5, 1.234, 'Dinesh', 10, 100.2]"
      ]
     },
     "execution_count": 12,
     "metadata": {},
     "output_type": "execute_result"
    }
   ],
   "source": [
    "mixed_list.pop(0)\n",
    "mixed_list"
   ]
  },
  {
   "cell_type": "code",
   "execution_count": 13,
   "id": "bf12a8eb",
   "metadata": {},
   "outputs": [
    {
     "name": "stdout",
     "output_type": "stream",
     "text": [
      "5\n",
      "1.234\n",
      "Dinesh\n",
      "10\n",
      "100.2\n"
     ]
    }
   ],
   "source": [
    "for mixedlist in mixed_list:\n",
    "    print(mixedlist)"
   ]
  },
  {
   "cell_type": "markdown",
   "id": "85bad179",
   "metadata": {},
   "source": [
    "### 7. Create a tuple containing the names of the days of the week and print it. Access and print the name of the third day."
   ]
  },
  {
   "cell_type": "code",
   "execution_count": 14,
   "id": "0bfd4056",
   "metadata": {},
   "outputs": [
    {
     "data": {
      "text/plain": [
       "('Sunday', 'Monday', 'Tuesday', 'Wednesday', 'Thursday', 'Friday', 'Saturday')"
      ]
     },
     "execution_count": 14,
     "metadata": {},
     "output_type": "execute_result"
    }
   ],
   "source": [
    "weekDays = (\"Sunday\",\"Monday\", \"Tuesday\", \"Wednesday\", \"Thursday\", \"Friday\", \"Saturday\")\n",
    "weekDays"
   ]
  },
  {
   "cell_type": "code",
   "execution_count": 17,
   "id": "9a83d67d",
   "metadata": {},
   "outputs": [
    {
     "data": {
      "text/plain": [
       "'Tuesday'"
      ]
     },
     "execution_count": 17,
     "metadata": {},
     "output_type": "execute_result"
    }
   ],
   "source": [
    "third_day = weekDays[2]\n",
    "third_day"
   ]
  },
  {
   "cell_type": "markdown",
   "id": "82021021",
   "metadata": {},
   "source": [
    "### 8. Create a tuple of your favorite colors and print it. Check if a certain color is present in the tuple and print the result."
   ]
  },
  {
   "cell_type": "code",
   "execution_count": 18,
   "id": "bf5f9617",
   "metadata": {},
   "outputs": [
    {
     "data": {
      "text/plain": [
       "('Red', 'Green', 'Blue', 'Cyan', 'Magenta')"
      ]
     },
     "execution_count": 18,
     "metadata": {},
     "output_type": "execute_result"
    }
   ],
   "source": [
    "fav_colors = (\"Red\",\"Green\", \"Blue\", \"Cyan\", \"Magenta\")\n",
    "fav_colors"
   ]
  },
  {
   "cell_type": "code",
   "execution_count": 22,
   "id": "59045168",
   "metadata": {},
   "outputs": [
    {
     "name": "stdout",
     "output_type": "stream",
     "text": [
      "Color present:  Cyan\n"
     ]
    }
   ],
   "source": [
    "color_present = \"Cyan\"\n",
    "if color_present in fav_colors:\n",
    "    print(\"Color present: \",color_present)\n",
    "else:\n",
    "    print(\"No such colors present\")"
   ]
  },
  {
   "cell_type": "markdown",
   "id": "8a46eb65",
   "metadata": {},
   "source": [
    "### 9. Create a dictionary representing the information of a book with keys \"title\", \"author\", and \"year\" and print it. Update the year of the book and print the updated dictionary."
   ]
  },
  {
   "cell_type": "code",
   "execution_count": 23,
   "id": "f3a2fd3a",
   "metadata": {},
   "outputs": [
    {
     "data": {
      "text/plain": [
       "{'title': 'Harry Potter', 'author': 'J. K. Rowling', 'year': 1997}"
      ]
     },
     "execution_count": 23,
     "metadata": {},
     "output_type": "execute_result"
    }
   ],
   "source": [
    "book_info = {\n",
    "    \"title\": \"Harry Potter\",\n",
    "    \"author\": \"J. K. Rowling\",\n",
    "    \"year\": 1997\n",
    "}\n",
    "book_info"
   ]
  },
  {
   "cell_type": "code",
   "execution_count": 24,
   "id": "0d3bb414",
   "metadata": {},
   "outputs": [
    {
     "data": {
      "text/plain": [
       "{'title': 'Harry Potter', 'author': 'J. K. Rowling', 'year': 2007}"
      ]
     },
     "execution_count": 24,
     "metadata": {},
     "output_type": "execute_result"
    }
   ],
   "source": [
    "newYear = 2007\n",
    "book_info[\"year\"] = newYear\n",
    "book_info"
   ]
  },
  {
   "cell_type": "markdown",
   "id": "b9c432a1",
   "metadata": {},
   "source": [
    "### 10. Create a dictionary containing the names of fruits as keys and their corresponding colors as values and print it. Add a new fruit-color pair to the dictionary and print the updated dictionary."
   ]
  },
  {
   "cell_type": "code",
   "execution_count": 27,
   "id": "479254ef",
   "metadata": {},
   "outputs": [
    {
     "data": {
      "text/plain": [
       "{'apple': 'red',\n",
       " 'orange': 'orange',\n",
       " 'grapes': 'green',\n",
       " 'banana': 'yellow',\n",
       " 'mango': 'yellowish orange'}"
      ]
     },
     "execution_count": 27,
     "metadata": {},
     "output_type": "execute_result"
    }
   ],
   "source": [
    "fruits_name = {\n",
    "    \"apple\" : \"red\",\n",
    "    \"orange\":\"orange\",\n",
    "    \"grapes\":\"green\",\n",
    "    \"banana\":\"yellow\",\n",
    "    \"mango\":\"yellowish orange\"\n",
    "}\n",
    "\n",
    "fruits_name"
   ]
  },
  {
   "cell_type": "code",
   "execution_count": 32,
   "id": "d8663569",
   "metadata": {},
   "outputs": [
    {
     "data": {
      "text/plain": [
       "{'apple': 'red',\n",
       " 'orange': 'orange',\n",
       " 'grapes': 'green',\n",
       " 'banana': 'yellow',\n",
       " 'mango': 'yellowish orange',\n",
       " 'watermelon': 'green'}"
      ]
     },
     "execution_count": 32,
     "metadata": {},
     "output_type": "execute_result"
    }
   ],
   "source": [
    "\n",
    "fruits_name[\"watermelon\"] = \"green\"\n",
    "fruits_name"
   ]
  },
  {
   "cell_type": "markdown",
   "id": "46706ca7",
   "metadata": {},
   "source": [
    "### 11. Create a dictionary representing the population of different cities with keys as city names and values as population numbers and print it. Remove a city from the dictionary and print the modified dictionary."
   ]
  },
  {
   "cell_type": "code",
   "execution_count": 34,
   "id": "f102dd0d",
   "metadata": {},
   "outputs": [
    {
     "data": {
      "text/plain": [
       "{'Baneshwor': 938748,\n",
       " 'Lalitpur': 990456,\n",
       " 'Bhaktapur': 705994,\n",
       " 'Koteshwor': 25502,\n",
       " 'Budanilkantha': 680992}"
      ]
     },
     "execution_count": 34,
     "metadata": {},
     "output_type": "execute_result"
    }
   ],
   "source": [
    "city_population = {\n",
    "    \"Baneshwor\": 938748,\n",
    "    \"Lalitpur\": 990456,\n",
    "    \"Bhaktapur\": 705994,\n",
    "    \"Koteshwor\": 25502,\n",
    "    \"Budanilkantha\": 680992\n",
    "}\n",
    "city_population"
   ]
  },
  {
   "cell_type": "code",
   "execution_count": 35,
   "id": "d1b9ef11",
   "metadata": {},
   "outputs": [
    {
     "data": {
      "text/plain": [
       "{'Baneshwor': 938748,\n",
       " 'Bhaktapur': 705994,\n",
       " 'Koteshwor': 25502,\n",
       " 'Budanilkantha': 680992}"
      ]
     },
     "execution_count": 35,
     "metadata": {},
     "output_type": "execute_result"
    }
   ],
   "source": [
    "city_population.pop(\"Lalitpur\", None)\n",
    "city_population\n"
   ]
  },
  {
   "cell_type": "code",
   "execution_count": null,
   "id": "6ec558e8",
   "metadata": {},
   "outputs": [],
   "source": []
  }
 ],
 "metadata": {
  "kernelspec": {
   "display_name": "Python 3 (ipykernel)",
   "language": "python",
   "name": "python3"
  },
  "language_info": {
   "codemirror_mode": {
    "name": "ipython",
    "version": 3
   },
   "file_extension": ".py",
   "mimetype": "text/x-python",
   "name": "python",
   "nbconvert_exporter": "python",
   "pygments_lexer": "ipython3",
   "version": "3.11.7"
  }
 },
 "nbformat": 4,
 "nbformat_minor": 5
}
