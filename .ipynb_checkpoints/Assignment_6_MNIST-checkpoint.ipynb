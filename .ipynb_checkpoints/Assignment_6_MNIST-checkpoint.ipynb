{
 "cells": [
  {
   "cell_type": "code",
   "execution_count": 3,
   "id": "8e71834c",
   "metadata": {},
   "outputs": [],
   "source": [
    "# pip install cv2"
   ]
  },
  {
   "cell_type": "code",
   "execution_count": 4,
   "id": "c181818d",
   "metadata": {},
   "outputs": [],
   "source": [
    "import matplotlib.pyplot as plt\n",
    "import seaborn as sns\n",
    "from sklearn.datasets import fetch_openml\n",
    "import pandas as pd\n"
   ]
  },
  {
   "cell_type": "code",
   "execution_count": null,
   "id": "47e51e1d",
   "metadata": {},
   "outputs": [
    {
     "name": "stderr",
     "output_type": "stream",
     "text": [
      "C:\\Users\\Dinesh\\anaconda3\\Lib\\site-packages\\sklearn\\datasets\\_openml.py:968: FutureWarning: The default value of `parser` will change from `'liac-arff'` to `'auto'` in 1.4. You can set `parser='auto'` to silence this warning. Therefore, an `ImportError` will be raised from 1.4 if the dataset is dense and pandas is not installed. Note that the pandas parser may return different data types. See the Notes Section in fetch_openml's API doc for details.\n",
      "  warn(\n"
     ]
    }
   ],
   "source": [
    "# Load MNIST dataset\n",
    "mnist = fetch_openml('mnist_784', version=1, parser='auto')\n",
    "X, y = mnist[\"data\"], mnist[\"target\"].astype(int)"
   ]
  },
  {
   "cell_type": "code",
   "execution_count": null,
   "id": "16ce2912",
   "metadata": {},
   "outputs": [],
   "source": [
    "# Convert target to integers\n",
    "y = y.astype(int)"
   ]
  },
  {
   "cell_type": "code",
   "execution_count": null,
   "id": "db80a799",
   "metadata": {},
   "outputs": [],
   "source": [
    "# Plotting random samples from the dataset\n",
    "plt.figure(figsize=(10, 10))\n",
    "for i in range(25):\n",
    "    plt.subplot(5, 5, i + 1)\n",
    "    plt.imshow(X.iloc[i].values.reshape(28, 28), cmap='gray')\n",
    "    plt.title(f'Label: {y[i]}')\n",
    "    plt.axis('off')\n",
    "plt.tight_layout()\n",
    "plt.show()"
   ]
  },
  {
   "cell_type": "code",
   "execution_count": null,
   "id": "37c649e2",
   "metadata": {},
   "outputs": [],
   "source": [
    "# Class distribution\n",
    "plt.figure(figsize=(8, 5))\n",
    "sns.countplot(x=y)\n",
    "plt.title('Distribution of Handwritten Digits')\n",
    "plt.xlabel('Digits')\n",
    "plt.ylabel('Count')\n",
    "plt.xticks(rotation=0)\n",
    "plt.show()"
   ]
  },
  {
   "cell_type": "code",
   "execution_count": null,
   "id": "dee33d46",
   "metadata": {},
   "outputs": [],
   "source": [
    "# Check for missing values\n",
    "missing_values = pd.DataFrame(X.isnull().sum(), columns=['Missing Values'])\n",
    "print(missing_values[missing_values['Missing Values'] > 0])"
   ]
  },
  {
   "cell_type": "code",
   "execution_count": null,
   "id": "0ad9cd4f",
   "metadata": {},
   "outputs": [],
   "source": [
    "# Normalize pixel values\n",
    "X_normalized = X / 255.0\n",
    "X_normalized"
   ]
  },
  {
   "cell_type": "code",
   "execution_count": null,
   "id": "9f3f0028",
   "metadata": {},
   "outputs": [],
   "source": [
    "\n",
    "\n",
    "# Title\n",
    "st.title(\"Handwritten Digit Recognition\")\n",
    "\n",
    "# Drawing Canvas\n",
    "canvas = st_canvas(\n",
    "    fill_color=\"black\",\n",
    "    stroke_color=\"white\",\n",
    "    background_color=\"black\",\n",
    "    height=280,\n",
    "    width=280,\n",
    "    drawing_mode=\"freedraw\",\n",
    "    key=\"canvas\"\n",
    ")\n",
    "\n",
    "if st.button(\"Predict\"):\n",
    "    # Process the drawn image\n",
    "    if canvas.image_data is not None:\n",
    "        img = canvas.image_data\n",
    "        img = cv2.cvtColor(np.array(img), cv2.COLOR_RGBA2GRAY)\n",
    "        img = cv2.resize(img, (28, 28))\n",
    "        img = img.reshape(1, -1) / 255.0  # Normalize\n",
    "\n",
    "        # Model Prediction (to be implemented later)\n",
    "        # prediction = model.predict(img)\n",
    "        # st.write(f'Predicted Digit: {prediction[0]}')\n",
    "    else:\n",
    "        st.write(\"No drawing found. Please draw something on the canvas.\")\n"
   ]
  },
  {
   "cell_type": "code",
   "execution_count": null,
   "id": "2c9a2b0c",
   "metadata": {},
   "outputs": [],
   "source": [
    "from sklearn.model_selection import train_test_split\n",
    "from sklearn.ensemble import RandomForestClassifier, GradientBoostingClassifier, VotingClassifier\n",
    "from sklearn.metrics import accuracy_score\n",
    "\n",
    "# Split the dataset\n",
    "X_train, X_test, y_train, y_test = train_test_split(X, y, test_size=0.2, random_state=42)\n"
   ]
  },
  {
   "cell_type": "code",
   "execution_count": null,
   "id": "8d37e17a",
   "metadata": {},
   "outputs": [],
   "source": [
    "# Initialize classifiers\n",
    "rf = RandomForestClassifier(n_estimators=100, random_state=42)\n",
    "gb = GradientBoostingClassifier(n_estimators=100, random_state=42)\n"
   ]
  },
  {
   "cell_type": "code",
   "execution_count": null,
   "id": "0d5fd69a",
   "metadata": {},
   "outputs": [],
   "source": [
    "# Voting Classifier\n",
    "voting_clf = VotingClassifier(estimators=[('rf', rf), ('gb', gb)], voting='hard')\n",
    "\n"
   ]
  },
  {
   "cell_type": "code",
   "execution_count": null,
   "id": "b7a351d2",
   "metadata": {},
   "outputs": [],
   "source": [
    "# Train classifiers\n",
    "rf.fit(X_train, y_train)\n",
    "gb.fit(X_train, y_train)\n",
    "voting_clf.fit(X_train, y_train)\n"
   ]
  },
  {
   "cell_type": "code",
   "execution_count": null,
   "id": "bc97629f",
   "metadata": {},
   "outputs": [],
   "source": [
    "# Evaluate models\n",
    "rf_pred = rf.predict(X_test)\n",
    "gb_pred = gb.predict(X_test)\n",
    "voting_pred = voting_clf.predict(X_test)"
   ]
  },
  {
   "cell_type": "code",
   "execution_count": null,
   "id": "281f7ad3",
   "metadata": {},
   "outputs": [],
   "source": [
    "# Initialize models\n",
    "rf = RandomForestClassifier(n_estimators=100, random_state=42)\n",
    "gb = GradientBoostingClassifier(n_estimators=100, random_state=42)\n",
    "voting_clf = VotingClassifier(estimators=[('rf', rf), ('gb', gb)], voting='hard')\n",
    "# Calculate accuracy\n",
    "rf_accuracy = accuracy_score(y_test, rf_pred)\n",
    "gb_accuracy = accuracy_score(y_test, gb_pred)\n",
    "voting_accuracy = accuracy_score(y_test, voting_pred)\n"
   ]
  },
  {
   "cell_type": "code",
   "execution_count": null,
   "id": "2eec02d2",
   "metadata": {},
   "outputs": [],
   "source": [
    "print(f\"Random Forest Accuracy: {rf_accuracy:.2f}\")\n",
    "print(f\"Gradient Boosting Accuracy: {gb_accuracy:.2f}\")\n",
    "print(f\"Voting Classifier Accuracy: {voting_accuracy:.2f}\")"
   ]
  },
  {
   "cell_type": "code",
   "execution_count": null,
   "id": "ca20565b",
   "metadata": {},
   "outputs": [],
   "source": [
    "import pandas as pd\n",
    "\n",
    "# Create a summary DataFrame\n",
    "results = pd.DataFrame({\n",
    "    'Model': ['Random Forest', 'Gradient Boosting', 'Voting Classifier'],\n",
    "    'Accuracy': [rf_accuracy, gb_accuracy, voting_accuracy]\n",
    "})\n",
    "\n",
    "# Display results\n",
    "print(results)\n"
   ]
  },
  {
   "cell_type": "code",
   "execution_count": null,
   "id": "0f601b28",
   "metadata": {},
   "outputs": [],
   "source": []
  },
  {
   "cell_type": "code",
   "execution_count": null,
   "id": "7a4bc144",
   "metadata": {},
   "outputs": [],
   "source": []
  }
 ],
 "metadata": {
  "kernelspec": {
   "display_name": "Python 3 (ipykernel)",
   "language": "python",
   "name": "python3"
  },
  "language_info": {
   "codemirror_mode": {
    "name": "ipython",
    "version": 3
   },
   "file_extension": ".py",
   "mimetype": "text/x-python",
   "name": "python",
   "nbconvert_exporter": "python",
   "pygments_lexer": "ipython3",
   "version": "3.11.7"
  }
 },
 "nbformat": 4,
 "nbformat_minor": 5
}
