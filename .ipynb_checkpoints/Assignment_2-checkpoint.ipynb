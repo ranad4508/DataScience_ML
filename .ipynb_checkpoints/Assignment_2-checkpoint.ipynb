{
 "cells": [
  {
   "cell_type": "markdown",
   "id": "d14dae34",
   "metadata": {},
   "source": [
    "## Array Creation"
   ]
  },
  {
   "cell_type": "markdown",
   "id": "b8c04249",
   "metadata": {},
   "source": [
    "### Create a 1-dimensional array of integers from 1 to 10."
   ]
  },
  {
   "cell_type": "code",
   "execution_count": 1,
   "id": "ecc4b7f0",
   "metadata": {},
   "outputs": [],
   "source": [
    "import numpy as np"
   ]
  },
  {
   "cell_type": "code",
   "execution_count": 3,
   "id": "07d7b9e4",
   "metadata": {},
   "outputs": [
    {
     "data": {
      "text/plain": [
       "array([ 1,  2,  3,  4,  5,  6,  7,  8,  9, 10])"
      ]
     },
     "execution_count": 3,
     "metadata": {},
     "output_type": "execute_result"
    }
   ],
   "source": [
    "oneD_arr = np.arange(1, 11)\n",
    "oneD_arr"
   ]
  },
  {
   "cell_type": "markdown",
   "id": "6fa732e1",
   "metadata": {},
   "source": [
    "### Create a 2-dimensional array with random float values of shape (3, 4)."
   ]
  },
  {
   "cell_type": "code",
   "execution_count": 5,
   "id": "bcc2fc13",
   "metadata": {},
   "outputs": [
    {
     "data": {
      "text/plain": [
       "array([[0.33149203, 0.4608891 , 0.8745458 , 0.31319587],\n",
       "       [0.56116875, 0.44942595, 0.23034956, 0.14993473],\n",
       "       [0.08333405, 0.95959109, 0.6971533 , 0.35805128]])"
      ]
     },
     "execution_count": 5,
     "metadata": {},
     "output_type": "execute_result"
    }
   ],
   "source": [
    "random_arr = np.random.rand(3, 4)\n",
    "random_arr"
   ]
  },
  {
   "cell_type": "markdown",
   "id": "ec9cfcd1",
   "metadata": {},
   "source": [
    "### Create a 3-dimensional array of zeros with shape (2, 3, 4)."
   ]
  },
  {
   "cell_type": "code",
   "execution_count": 6,
   "id": "848a6055",
   "metadata": {},
   "outputs": [
    {
     "data": {
      "text/plain": [
       "array([[[0., 0., 0., 0.],\n",
       "        [0., 0., 0., 0.],\n",
       "        [0., 0., 0., 0.]],\n",
       "\n",
       "       [[0., 0., 0., 0.],\n",
       "        [0., 0., 0., 0.],\n",
       "        [0., 0., 0., 0.]]])"
      ]
     },
     "execution_count": 6,
     "metadata": {},
     "output_type": "execute_result"
    }
   ],
   "source": [
    "threeD_zeros = np.zeros((2, 3, 4))\n",
    "threeD_zeros"
   ]
  },
  {
   "cell_type": "markdown",
   "id": "76d929e9",
   "metadata": {},
   "source": [
    "## Array Operations"
   ]
  },
  {
   "cell_type": "markdown",
   "id": "cac720e2",
   "metadata": {},
   "source": [
    "### Given two 1-dimensional arrays, perform element-wise addition, subtraction, multiplication, and division."
   ]
  },
  {
   "cell_type": "code",
   "execution_count": 7,
   "id": "6f4c930c",
   "metadata": {},
   "outputs": [],
   "source": [
    "arr1 = np.array([1,2,3,4,5])\n",
    "arr2 = np.array([2,4,6,8,10])\n"
   ]
  },
  {
   "cell_type": "code",
   "execution_count": 9,
   "id": "ce76b630",
   "metadata": {},
   "outputs": [
    {
     "data": {
      "text/plain": [
       "array([ 3,  6,  9, 12, 15])"
      ]
     },
     "execution_count": 9,
     "metadata": {},
     "output_type": "execute_result"
    }
   ],
   "source": [
    "#Addition\n",
    "arr_add = arr1 + arr2\n",
    "arr_add"
   ]
  },
  {
   "cell_type": "code",
   "execution_count": 11,
   "id": "6fe917a8",
   "metadata": {},
   "outputs": [
    {
     "data": {
      "text/plain": [
       "array([-1, -2, -3, -4, -5])"
      ]
     },
     "execution_count": 11,
     "metadata": {},
     "output_type": "execute_result"
    }
   ],
   "source": [
    "#Subtraction\n",
    "arr_sub = arr1 - arr2\n",
    "arr_sub"
   ]
  },
  {
   "cell_type": "code",
   "execution_count": 12,
   "id": "64bdeede",
   "metadata": {},
   "outputs": [
    {
     "data": {
      "text/plain": [
       "array([ 2,  8, 18, 32, 50])"
      ]
     },
     "execution_count": 12,
     "metadata": {},
     "output_type": "execute_result"
    }
   ],
   "source": [
    "#Multiplication\n",
    "arr_mul = arr1 * arr2\n",
    "arr_mul"
   ]
  },
  {
   "cell_type": "code",
   "execution_count": 13,
   "id": "7d4db9de",
   "metadata": {},
   "outputs": [
    {
     "data": {
      "text/plain": [
       "array([2., 2., 2., 2., 2.])"
      ]
     },
     "execution_count": 13,
     "metadata": {},
     "output_type": "execute_result"
    }
   ],
   "source": [
    "#Division\n",
    "arr_div = arr2 / arr1\n",
    "arr_div"
   ]
  },
  {
   "cell_type": "markdown",
   "id": "623bdd46",
   "metadata": {},
   "source": [
    "### Calculate the mean, median, and standard deviation of a given 1- dimensional array."
   ]
  },
  {
   "cell_type": "code",
   "execution_count": 14,
   "id": "b802b98e",
   "metadata": {},
   "outputs": [
    {
     "data": {
      "text/plain": [
       "array([ 1,  3, 52,  6,  8, 90])"
      ]
     },
     "execution_count": 14,
     "metadata": {},
     "output_type": "execute_result"
    }
   ],
   "source": [
    "array_1d = np.array([1,3,52,6,8,90])\n",
    "array_1d"
   ]
  },
  {
   "cell_type": "code",
   "execution_count": 15,
   "id": "0fff4f71",
   "metadata": {},
   "outputs": [
    {
     "data": {
      "text/plain": [
       "26.666666666666668"
      ]
     },
     "execution_count": 15,
     "metadata": {},
     "output_type": "execute_result"
    }
   ],
   "source": [
    "#Mean\n",
    "arr_mean = np.mean(array_1d)\n",
    "arr_mean"
   ]
  },
  {
   "cell_type": "code",
   "execution_count": 16,
   "id": "0a2f849f",
   "metadata": {},
   "outputs": [
    {
     "data": {
      "text/plain": [
       "7.0"
      ]
     },
     "execution_count": 16,
     "metadata": {},
     "output_type": "execute_result"
    }
   ],
   "source": [
    "#Median\n",
    "arr_median = np.median(array_1d)\n",
    "arr_median"
   ]
  },
  {
   "cell_type": "code",
   "execution_count": 17,
   "id": "d3a33caf",
   "metadata": {},
   "outputs": [
    {
     "data": {
      "text/plain": [
       "33.284964907430634"
      ]
     },
     "execution_count": 17,
     "metadata": {},
     "output_type": "execute_result"
    }
   ],
   "source": [
    "#Standard Deviation\n",
    "arr_std_dev = np.std(array_1d)\n",
    "arr_std_dev"
   ]
  },
  {
   "cell_type": "markdown",
   "id": "4d9d7a5b",
   "metadata": {},
   "source": [
    "### Reshape a 1-dimensional array into a 2-dimensional array of shape (3, 4)."
   ]
  },
  {
   "cell_type": "code",
   "execution_count": 18,
   "id": "b9cb1e16",
   "metadata": {},
   "outputs": [
    {
     "data": {
      "text/plain": [
       "array([ 1,  2,  3,  4,  5,  6,  7,  8,  9, 10, 11, 12])"
      ]
     },
     "execution_count": 18,
     "metadata": {},
     "output_type": "execute_result"
    }
   ],
   "source": [
    "array_1D = np.array([1,2,3,4,5,6,7,8,9,10,11,12])\n",
    "array_1D"
   ]
  },
  {
   "cell_type": "code",
   "execution_count": 19,
   "id": "ba294a0d",
   "metadata": {},
   "outputs": [
    {
     "data": {
      "text/plain": [
       "array([[ 1,  2,  3,  4],\n",
       "       [ 5,  6,  7,  8],\n",
       "       [ 9, 10, 11, 12]])"
      ]
     },
     "execution_count": 19,
     "metadata": {},
     "output_type": "execute_result"
    }
   ],
   "source": [
    "#Reshaping to 2D array\n",
    "array_2d = array_1D.reshape(3, 4)\n",
    "array_2d"
   ]
  },
  {
   "cell_type": "markdown",
   "id": "5cac0192",
   "metadata": {},
   "source": [
    "## Array Indexing and Slicing"
   ]
  },
  {
   "cell_type": "markdown",
   "id": "68f2f02d",
   "metadata": {},
   "source": [
    "### Extract the first row and last column of a 2-dimensional array"
   ]
  },
  {
   "cell_type": "code",
   "execution_count": 20,
   "id": "8dd9fc35",
   "metadata": {},
   "outputs": [
    {
     "data": {
      "text/plain": [
       "array([[1, 2, 3],\n",
       "       [4, 5, 6],\n",
       "       [7, 8, 9]])"
      ]
     },
     "execution_count": 20,
     "metadata": {},
     "output_type": "execute_result"
    }
   ],
   "source": [
    "array_2d = np.array([[1, 2, 3],\n",
    "                     [4, 5, 6],\n",
    "                     [7, 8, 9]])\n",
    "array_2d"
   ]
  },
  {
   "cell_type": "code",
   "execution_count": 21,
   "id": "459f97c2",
   "metadata": {},
   "outputs": [
    {
     "data": {
      "text/plain": [
       "array([1, 2, 3])"
      ]
     },
     "execution_count": 21,
     "metadata": {},
     "output_type": "execute_result"
    }
   ],
   "source": [
    "# Extract the first row\n",
    "first_row = array_2d[0, :]\n",
    "first_row"
   ]
  },
  {
   "cell_type": "code",
   "execution_count": 22,
   "id": "4491b108",
   "metadata": {},
   "outputs": [
    {
     "data": {
      "text/plain": [
       "array([3, 6, 9])"
      ]
     },
     "execution_count": 22,
     "metadata": {},
     "output_type": "execute_result"
    }
   ],
   "source": [
    "# Extract the last column\n",
    "last_column = array_2d[:, -1]\n",
    "last_column"
   ]
  },
  {
   "cell_type": "markdown",
   "id": "c127a274",
   "metadata": {},
   "source": [
    "### Reverse the order of elements in a 1-dimensional array."
   ]
  },
  {
   "cell_type": "code",
   "execution_count": 23,
   "id": "e04fdca7",
   "metadata": {},
   "outputs": [
    {
     "data": {
      "text/plain": [
       "array([1, 2, 3, 4, 5, 6, 7])"
      ]
     },
     "execution_count": 23,
     "metadata": {},
     "output_type": "execute_result"
    }
   ],
   "source": [
    "original_array = np.array([1,2,3,4,5,6,7])\n",
    "original_array"
   ]
  },
  {
   "cell_type": "code",
   "execution_count": 25,
   "id": "fb995b10",
   "metadata": {},
   "outputs": [
    {
     "data": {
      "text/plain": [
       "array([7, 6, 5, 4, 3, 2, 1])"
      ]
     },
     "execution_count": 25,
     "metadata": {},
     "output_type": "execute_result"
    }
   ],
   "source": [
    "#Reversing the order of 1D array\n",
    "reversed_array = original_array[::-1]\n",
    "reversed_array"
   ]
  },
  {
   "cell_type": "markdown",
   "id": "ab5630d1",
   "metadata": {},
   "source": [
    "### Select elements from a 2-dimensional array that satisfy a specific condition (e.g., values greater than a certain threshold)."
   ]
  },
  {
   "cell_type": "code",
   "execution_count": 26,
   "id": "1e9f81eb",
   "metadata": {},
   "outputs": [
    {
     "data": {
      "text/plain": [
       "array([[1, 2, 3],\n",
       "       [4, 5, 6],\n",
       "       [7, 8, 9]])"
      ]
     },
     "execution_count": 26,
     "metadata": {},
     "output_type": "execute_result"
    }
   ],
   "source": [
    "twoDarr = np.array([[1,2,3],[4,5,6],[7,8,9]])\n",
    "twoDarr"
   ]
  },
  {
   "cell_type": "code",
   "execution_count": 27,
   "id": "a6e57b96",
   "metadata": {},
   "outputs": [
    {
     "data": {
      "text/plain": [
       "array([6, 7, 8, 9])"
      ]
     },
     "execution_count": 27,
     "metadata": {},
     "output_type": "execute_result"
    }
   ],
   "source": [
    "#Applying specific condition\n",
    "condition = twoDarr > 5\n",
    "result = twoDarr[condition]\n",
    "result"
   ]
  },
  {
   "cell_type": "code",
   "execution_count": 29,
   "id": "44cc1452",
   "metadata": {},
   "outputs": [
    {
     "data": {
      "text/plain": [
       "array([2, 4, 6, 8])"
      ]
     },
     "execution_count": 29,
     "metadata": {},
     "output_type": "execute_result"
    }
   ],
   "source": [
    "#Applying specific condition\n",
    "condition2 = twoDarr % 2 == 0\n",
    "result2 = twoDarr[condition2]\n",
    "result2"
   ]
  },
  {
   "cell_type": "markdown",
   "id": "a3e327d3",
   "metadata": {},
   "source": [
    "## Array Broadcasting"
   ]
  },
  {
   "cell_type": "markdown",
   "id": "836fa2b7",
   "metadata": {},
   "source": [
    "### Add a scalar value to each element of a 2-dimensional array."
   ]
  },
  {
   "cell_type": "code",
   "execution_count": 30,
   "id": "caa4382f",
   "metadata": {},
   "outputs": [
    {
     "data": {
      "text/plain": [
       "array([[1, 2, 3],\n",
       "       [4, 5, 6],\n",
       "       [7, 8, 9]])"
      ]
     },
     "execution_count": 30,
     "metadata": {},
     "output_type": "execute_result"
    }
   ],
   "source": [
    "array_twoD = np.array([[1, 2, 3],\n",
    "                     [4, 5, 6],\n",
    "                     [7, 8, 9]])\n",
    "array_twoD"
   ]
  },
  {
   "cell_type": "code",
   "execution_count": 31,
   "id": "c59cb081",
   "metadata": {},
   "outputs": [
    {
     "data": {
      "text/plain": [
       "array([[ 9, 10, 11],\n",
       "       [12, 13, 14],\n",
       "       [15, 16, 17]])"
      ]
     },
     "execution_count": 31,
     "metadata": {},
     "output_type": "execute_result"
    }
   ],
   "source": [
    "#Adding scalar value to each element of a 2D array\n",
    "scalar_value = 8\n",
    "adding_value = array_twoD + scalar_value\n",
    "adding_value"
   ]
  },
  {
   "cell_type": "markdown",
   "id": "32666dca",
   "metadata": {},
   "source": [
    "### Multiply a 1-dimensional array with a 2-dimensional array, leveraging NumPy's broadcasting rules."
   ]
  },
  {
   "cell_type": "code",
   "execution_count": 43,
   "id": "935931e2",
   "metadata": {},
   "outputs": [
    {
     "data": {
      "text/plain": [
       "array([1, 2, 3])"
      ]
     },
     "execution_count": 43,
     "metadata": {},
     "output_type": "execute_result"
    }
   ],
   "source": [
    "oneDim_arr = np.array([1, 2, 3])\n",
    "oneDim_arr"
   ]
  },
  {
   "cell_type": "code",
   "execution_count": 44,
   "id": "d1487758",
   "metadata": {},
   "outputs": [
    {
     "data": {
      "text/plain": [
       "array([[4, 5, 6],\n",
       "       [7, 8, 9]])"
      ]
     },
     "execution_count": 44,
     "metadata": {},
     "output_type": "execute_result"
    }
   ],
   "source": [
    "twoDim_arr = np.array([[4, 5, 6],[7, 8, 9]])\n",
    "twoDim_arr"
   ]
  },
  {
   "cell_type": "code",
   "execution_count": 47,
   "id": "b96ddf8d",
   "metadata": {},
   "outputs": [
    {
     "data": {
      "text/plain": [
       "array([[ 4, 10, 18],\n",
       "       [ 7, 16, 27]])"
      ]
     },
     "execution_count": 47,
     "metadata": {},
     "output_type": "execute_result"
    }
   ],
   "source": [
    "# Multiply the 1-dimensional array with the 2-dimensional array\n",
    "result_array = oneDim_arr * twoDim_arr\n",
    "result_array"
   ]
  },
  {
   "cell_type": "markdown",
   "id": "5d58a13e",
   "metadata": {},
   "source": [
    "## Linear Algebra"
   ]
  },
  {
   "cell_type": "markdown",
   "id": "cab6180b",
   "metadata": {},
   "source": [
    "### Calculate the dot product of two 1-dimensional arrays."
   ]
  },
  {
   "cell_type": "code",
   "execution_count": 48,
   "id": "aefa846d",
   "metadata": {},
   "outputs": [
    {
     "data": {
      "text/plain": [
       "array([1, 2, 3, 4])"
      ]
     },
     "execution_count": 48,
     "metadata": {},
     "output_type": "execute_result"
    }
   ],
   "source": [
    "arr_1 = np.array([1,2,3,4])\n",
    "arr_1"
   ]
  },
  {
   "cell_type": "code",
   "execution_count": 49,
   "id": "a761511e",
   "metadata": {},
   "outputs": [
    {
     "data": {
      "text/plain": [
       "array([11, 23,  5,  6])"
      ]
     },
     "execution_count": 49,
     "metadata": {},
     "output_type": "execute_result"
    }
   ],
   "source": [
    "arr_2 = np.array([11,23,5,6])\n",
    "arr_2"
   ]
  },
  {
   "cell_type": "code",
   "execution_count": 50,
   "id": "49d33bff",
   "metadata": {},
   "outputs": [
    {
     "data": {
      "text/plain": [
       "96"
      ]
     },
     "execution_count": 50,
     "metadata": {},
     "output_type": "execute_result"
    }
   ],
   "source": [
    "dot_product = np.dot(arr_1, arr_2)\n",
    "dot_product"
   ]
  },
  {
   "cell_type": "markdown",
   "id": "82c61af9",
   "metadata": {},
   "source": [
    "### Compute the matrix multiplication of two 2-dimensional arrays."
   ]
  },
  {
   "cell_type": "code",
   "execution_count": 57,
   "id": "441947d5",
   "metadata": {},
   "outputs": [
    {
     "data": {
      "text/plain": [
       "array([[12, 13],\n",
       "       [ 4,  6]])"
      ]
     },
     "execution_count": 57,
     "metadata": {},
     "output_type": "execute_result"
    }
   ],
   "source": [
    "array_1 = np.array([[12,13],[4,6]])\n",
    "array_1"
   ]
  },
  {
   "cell_type": "code",
   "execution_count": 58,
   "id": "71f81b6e",
   "metadata": {},
   "outputs": [
    {
     "data": {
      "text/plain": [
       "array([[1, 5],\n",
       "       [8, 9]])"
      ]
     },
     "execution_count": 58,
     "metadata": {},
     "output_type": "execute_result"
    }
   ],
   "source": [
    "array_2 = np.array([[1,5],[8,9]])\n",
    "array_2"
   ]
  },
  {
   "cell_type": "code",
   "execution_count": 59,
   "id": "def20e18",
   "metadata": {},
   "outputs": [
    {
     "name": "stdout",
     "output_type": "stream",
     "text": [
      "[[116 177]\n",
      " [ 52  74]]\n"
     ]
    }
   ],
   "source": [
    "# Compute the matrix multiplication using np.dot\n",
    "matrix_mul = np.matmul(array_1, array_2)\n",
    "print(matrix_mul)"
   ]
  },
  {
   "cell_type": "markdown",
   "id": "5b52746b",
   "metadata": {},
   "source": [
    "### Find the inverse and determinant of a square matrix."
   ]
  },
  {
   "cell_type": "code",
   "execution_count": 60,
   "id": "189cc01f",
   "metadata": {},
   "outputs": [
    {
     "data": {
      "text/plain": [
       "array([[1, 2, 3],\n",
       "       [6, 4, 2],\n",
       "       [9, 3, 7]])"
      ]
     },
     "execution_count": 60,
     "metadata": {},
     "output_type": "execute_result"
    }
   ],
   "source": [
    "square_matrix = np.array([[1,2,3],[6,4,2],[9,3,7]])\n",
    "square_matrix"
   ]
  },
  {
   "cell_type": "code",
   "execution_count": 62,
   "id": "7adf0003",
   "metadata": {},
   "outputs": [
    {
     "data": {
      "text/plain": [
       "-80.00000000000004"
      ]
     },
     "execution_count": 62,
     "metadata": {},
     "output_type": "execute_result"
    }
   ],
   "source": [
    "#Matrix determinant of a square matrix\n",
    "matrix_det = np.linalg.det(square_matrix)\n",
    "matrix_det"
   ]
  },
  {
   "cell_type": "code",
   "execution_count": 63,
   "id": "0c82474f",
   "metadata": {},
   "outputs": [
    {
     "data": {
      "text/plain": [
       "array([[-0.275 ,  0.0625,  0.1   ],\n",
       "       [ 0.3   ,  0.25  , -0.2   ],\n",
       "       [ 0.225 , -0.1875,  0.1   ]])"
      ]
     },
     "execution_count": 63,
     "metadata": {},
     "output_type": "execute_result"
    }
   ],
   "source": [
    "#Matrix inverse of a square matrix\n",
    "matrix_inverse = np.linalg.inv(square_matrix)\n",
    "matrix_inverse"
   ]
  },
  {
   "cell_type": "code",
   "execution_count": null,
   "id": "63741339",
   "metadata": {},
   "outputs": [],
   "source": []
  }
 ],
 "metadata": {
  "kernelspec": {
   "display_name": "Python 3 (ipykernel)",
   "language": "python",
   "name": "python3"
  },
  "language_info": {
   "codemirror_mode": {
    "name": "ipython",
    "version": 3
   },
   "file_extension": ".py",
   "mimetype": "text/x-python",
   "name": "python",
   "nbconvert_exporter": "python",
   "pygments_lexer": "ipython3",
   "version": "3.11.7"
  }
 },
 "nbformat": 4,
 "nbformat_minor": 5
}
